{
 "cells": [
  {
   "cell_type": "code",
   "execution_count": 1,
   "metadata": {},
   "outputs": [],
   "source": [
    "# 1.2 CountVectorizer\n",
    "\n",
    "from sklearn.feature_extraction.text import CountVectorizer\n",
    "vectorizer = CountVectorizer(min_df = 1)"
   ]
  },
  {
   "cell_type": "code",
   "execution_count": 2,
   "metadata": {},
   "outputs": [],
   "source": [
    "# 1.3 훈련용 문장\n",
    "contents = ['상처받은 아이들은 너무 일찍 커버려',\n",
    "            '내가 상처받은 거 아는 사람 불편해',\n",
    "            '잘 사는 사람들은 좋은 사람 되기 쉬워',\n",
    "            '아무 일도 아니야 괜찮아']"
   ]
  },
  {
   "cell_type": "code",
   "execution_count": 3,
   "metadata": {},
   "outputs": [
    {
     "name": "stderr",
     "output_type": "stream",
     "text": [
      "/home/aquila/venv/nltk/lib/python3.10/site-packages/konlpy/tag/_okt.py:17: UserWarning: \"Twitter\" has changed to \"Okt\" since KoNLPy v0.4.5.\n",
      "  warn('\"Twitter\" has changed to \"Okt\" since KoNLPy v0.4.5.')\n"
     ]
    }
   ],
   "source": [
    "# 1.4 Twitter -> Okt\n",
    "from konlpy.tag import Twitter\n",
    "t = Twitter()"
   ]
  },
  {
   "cell_type": "code",
   "execution_count": 4,
   "metadata": {},
   "outputs": [
    {
     "data": {
      "text/plain": [
       "[['상처', '받은', '아이', '들', '은', '너무', '일찍', '커버', '려'],\n",
       " ['내', '가', '상처', '받은', '거', '아는', '사람', '불편해'],\n",
       " ['잘', '사는', '사람', '들', '은', '좋은', '사람', '되기', '쉬워'],\n",
       " ['아무', '일도', '아니야', '괜찮아']]"
      ]
     },
     "execution_count": 4,
     "metadata": {},
     "output_type": "execute_result"
    }
   ],
   "source": [
    "# 1.5 형태소 분석\n",
    "contents_tokens = [t.morphs(row) for row in contents]\n",
    "contents_tokens"
   ]
  },
  {
   "cell_type": "code",
   "execution_count": 5,
   "metadata": {},
   "outputs": [
    {
     "data": {
      "text/plain": [
       "[' 상처 받은 아이 들 은 너무 일찍 커버 려',\n",
       " ' 내 가 상처 받은 거 아는 사람 불편해',\n",
       " ' 잘 사는 사람 들 은 좋은 사람 되기 쉬워',\n",
       " ' 아무 일도 아니야 괜찮아']"
      ]
     },
     "execution_count": 5,
     "metadata": {},
     "output_type": "execute_result"
    }
   ],
   "source": [
    "# 1.6 다시 문장으로~\n",
    "contents_for_vectorize = []\n",
    "\n",
    "for content in contents_tokens:\n",
    "    sentence = ''\n",
    "    for word in content:\n",
    "        sentence = sentence + ' ' + word\n",
    "    contents_for_vectorize.append(sentence)\n",
    "\n",
    "contents_for_vectorize"
   ]
  },
  {
   "cell_type": "code",
   "execution_count": 6,
   "metadata": {},
   "outputs": [
    {
     "data": {
      "text/plain": [
       "<4x17 sparse matrix of type '<class 'numpy.int64'>'\n",
       "\twith 20 stored elements in Compressed Sparse Row format>"
      ]
     },
     "execution_count": 6,
     "metadata": {},
     "output_type": "execute_result"
    }
   ],
   "source": [
    "# 1.7 벡터라이즈~\n",
    "X = vectorizer.fit_transform(contents_for_vectorize)\n",
    "X"
   ]
  },
  {
   "cell_type": "code",
   "execution_count": 7,
   "metadata": {},
   "outputs": [
    {
     "data": {
      "text/plain": [
       "(4, 17)"
      ]
     },
     "execution_count": 7,
     "metadata": {},
     "output_type": "execute_result"
    }
   ],
   "source": [
    "num_samples, num_features = X.shape\n",
    "num_samples, num_features"
   ]
  },
  {
   "cell_type": "code",
   "execution_count": 8,
   "metadata": {},
   "outputs": [
    {
     "data": {
      "text/plain": [
       "array(['괜찮아', '너무', '되기', '받은', '불편해', '사는', '사람', '상처', '쉬워', '아는',\n",
       "       '아니야', '아무', '아이', '일도', '일찍', '좋은', '커버'], dtype=object)"
      ]
     },
     "execution_count": 8,
     "metadata": {},
     "output_type": "execute_result"
    }
   ],
   "source": [
    "# 1.8 확인\n",
    "vectorizer.get_feature_names_out()"
   ]
  },
  {
   "cell_type": "code",
   "execution_count": 9,
   "metadata": {},
   "outputs": [
    {
     "data": {
      "text/plain": [
       "array([[0, 0, 0, 1],\n",
       "       [1, 0, 0, 0],\n",
       "       [0, 0, 1, 0],\n",
       "       [1, 1, 0, 0],\n",
       "       [0, 1, 0, 0],\n",
       "       [0, 0, 1, 0],\n",
       "       [0, 1, 2, 0],\n",
       "       [1, 1, 0, 0],\n",
       "       [0, 0, 1, 0],\n",
       "       [0, 1, 0, 0],\n",
       "       [0, 0, 0, 1],\n",
       "       [0, 0, 0, 1],\n",
       "       [1, 0, 0, 0],\n",
       "       [0, 0, 0, 1],\n",
       "       [1, 0, 0, 0],\n",
       "       [0, 0, 1, 0],\n",
       "       [1, 0, 0, 0]])"
      ]
     },
     "execution_count": 9,
     "metadata": {},
     "output_type": "execute_result"
    }
   ],
   "source": [
    "# 1.9 의미가 이해가 되나요?\n",
    "X.toarray().transpose()"
   ]
  },
  {
   "cell_type": "code",
   "execution_count": 10,
   "metadata": {},
   "outputs": [
    {
     "name": "stdout",
     "output_type": "stream",
     "text": [
      "[['상처', '받기', '싫어', '괜찮아']]\n"
     ]
    },
    {
     "data": {
      "text/plain": [
       "[' 상처 받기 싫어 괜찮아']"
      ]
     },
     "execution_count": 10,
     "metadata": {},
     "output_type": "execute_result"
    }
   ],
   "source": [
    "# 1.10 테스트용 문장\n",
    "new_post = ['상처받기 싫어 괜찮아']\n",
    "new_post_tokens = [t.morphs(row) for row in new_post]#t.morphs(new_post)\n",
    "print(new_post_tokens)\n",
    "new_post_for_vectorize = []\n",
    "\n",
    "for content in new_post_tokens:\n",
    "    sentence = ''\n",
    "    for word in content:\n",
    "        sentence = sentence + ' ' + word\n",
    "    new_post_for_vectorize.append(sentence)\n",
    "\n",
    "new_post_for_vectorize"
   ]
  },
  {
   "cell_type": "code",
   "execution_count": 11,
   "metadata": {},
   "outputs": [
    {
     "data": {
      "text/plain": [
       "array([[1, 0, 0, 0, 0, 0, 0, 1, 0, 0, 0, 0, 0, 0, 0, 0, 0]])"
      ]
     },
     "execution_count": 11,
     "metadata": {},
     "output_type": "execute_result"
    }
   ],
   "source": [
    "# 1.11 벡터로 표현\n",
    "new_post_vec = vectorizer.transform(new_post_for_vectorize)\n",
    "new_post_vec.toarray()"
   ]
  },
  {
   "cell_type": "code",
   "execution_count": 12,
   "metadata": {},
   "outputs": [],
   "source": [
    "# 1.12 유클리드 거리\n",
    "import scipy as sp\n",
    "\n",
    "def dist_raw(v1,v2):\n",
    "    delta = v1 - v2\n",
    "    return sp.linalg.norm(delta.toarray())"
   ]
  },
  {
   "cell_type": "code",
   "execution_count": 13,
   "metadata": {},
   "outputs": [
    {
     "data": {
      "text/plain": [
       "[2.449489742783178, 2.23606797749979, 3.1622776601683795, 2.0]"
      ]
     },
     "execution_count": 13,
     "metadata": {},
     "output_type": "execute_result"
    }
   ],
   "source": [
    "# 1.13 결과\n",
    "dist = [dist_raw(each, new_post_vec) for each in X]\n",
    "dist"
   ]
  },
  {
   "cell_type": "code",
   "execution_count": 14,
   "metadata": {},
   "outputs": [
    {
     "name": "stdout",
     "output_type": "stream",
     "text": [
      "Best post is 3 , dist =  2.0\n",
      "test post is -->  ['상처받기 싫어 괜찮아']\n",
      "best dist post is -->  아무 일도 아니야 괜찮아\n"
     ]
    }
   ],
   "source": [
    "print(\"Best post is\", dist.index(min(dist)), \", dist = \", min(dist))\n",
    "print(\"test post is --> \", new_post)\n",
    "print(\"best dist post is --> \", contents[dist.index(min(dist))])"
   ]
  },
  {
   "cell_type": "code",
   "execution_count": 15,
   "metadata": {},
   "outputs": [
    {
     "name": "stdout",
     "output_type": "stream",
     "text": [
      "[[0 1 0 1 0 0 0 1 0 0 0 0 1 0 1 0 1]]\n",
      "[[0 0 0 1 1 0 1 1 0 1 0 0 0 0 0 0 0]]\n",
      "[[0 0 1 0 0 1 2 0 1 0 0 0 0 0 0 1 0]]\n",
      "[[1 0 0 0 0 0 0 0 0 0 1 1 0 1 0 0 0]]\n",
      "-----------------------\n",
      "[[1 0 0 0 0 0 0 1 0 0 0 0 0 0 0 0 0]]\n"
     ]
    }
   ],
   "source": [
    "# 1.14 유사도 - 벡터 사이의 거리\n",
    "\n",
    "for i in range(len(contents)):\n",
    "    print(X.getrow(i).toarray())\n",
    "print('-----------------------')\n",
    "print(new_post_vec.toarray())"
   ]
  },
  {
   "cell_type": "markdown",
   "metadata": {},
   "source": [
    "# 1.15 TF-IDF\n",
    "한 문서에서 많이 등장한 단어에 가중치 (Term Freq.)\n",
    "반면,\n",
    "전체 문서에서 많이 나타나는 단어는 중요하지 않게 (Inverse Document Freq.)\n",
    "-> TF-IDF"
   ]
  },
  {
   "cell_type": "code",
   "execution_count": 16,
   "metadata": {},
   "outputs": [],
   "source": [
    "# 1.16 TfidVectorizer\n",
    "\n",
    "from sklearn.feature_extraction.text import TfidfVectorizer\n",
    "vectorizer = TfidfVectorizer(min_df=1, decode_error='ignore')"
   ]
  },
  {
   "cell_type": "markdown",
   "metadata": {},
   "source": [
    "# 1.18 다시 적용"
   ]
  },
  {
   "cell_type": "code",
   "execution_count": 17,
   "metadata": {},
   "outputs": [
    {
     "data": {
      "text/plain": [
       "(4, 17)"
      ]
     },
     "execution_count": 17,
     "metadata": {},
     "output_type": "execute_result"
    }
   ],
   "source": [
    "X = vectorizer.fit_transform(contents_for_vectorize)\n",
    "num_samples, num_features = X.shape\n",
    "num_samples, num_features"
   ]
  },
  {
   "cell_type": "markdown",
   "metadata": {},
   "source": [
    "# 1.19 확인"
   ]
  },
  {
   "cell_type": "code",
   "execution_count": 18,
   "metadata": {},
   "outputs": [
    {
     "data": {
      "text/plain": [
       "array([[0.        , 0.        , 0.        , 0.5       ],\n",
       "       [0.43671931, 0.        , 0.        , 0.        ],\n",
       "       [0.        , 0.        , 0.39264414, 0.        ],\n",
       "       [0.34431452, 0.40104275, 0.        , 0.        ],\n",
       "       [0.        , 0.50867187, 0.        , 0.        ],\n",
       "       [0.        , 0.        , 0.39264414, 0.        ],\n",
       "       [0.        , 0.40104275, 0.6191303 , 0.        ],\n",
       "       [0.34431452, 0.40104275, 0.        , 0.        ],\n",
       "       [0.        , 0.        , 0.39264414, 0.        ],\n",
       "       [0.        , 0.50867187, 0.        , 0.        ],\n",
       "       [0.        , 0.        , 0.        , 0.5       ],\n",
       "       [0.        , 0.        , 0.        , 0.5       ],\n",
       "       [0.43671931, 0.        , 0.        , 0.        ],\n",
       "       [0.        , 0.        , 0.        , 0.5       ],\n",
       "       [0.43671931, 0.        , 0.        , 0.        ],\n",
       "       [0.        , 0.        , 0.39264414, 0.        ],\n",
       "       [0.43671931, 0.        , 0.        , 0.        ]])"
      ]
     },
     "execution_count": 18,
     "metadata": {},
     "output_type": "execute_result"
    }
   ],
   "source": [
    "X.toarray().transpose()"
   ]
  },
  {
   "cell_type": "markdown",
   "metadata": {},
   "source": [
    "# 1.20 테스트 문장 적용"
   ]
  },
  {
   "cell_type": "code",
   "execution_count": 19,
   "metadata": {},
   "outputs": [
    {
     "data": {
      "text/plain": [
       "array([[0.78528828, 0.        , 0.        , 0.        , 0.        ,\n",
       "        0.        , 0.        , 0.6191303 , 0.        , 0.        ,\n",
       "        0.        , 0.        , 0.        , 0.        , 0.        ,\n",
       "        0.        , 0.        ]])"
      ]
     },
     "execution_count": 19,
     "metadata": {},
     "output_type": "execute_result"
    }
   ],
   "source": [
    "new_post_vec = vectorizer.transform(new_post_for_vectorize)\n",
    "new_post_vec.toarray()"
   ]
  },
  {
   "cell_type": "markdown",
   "metadata": {},
   "source": [
    "# 1.21 거리를 구하는 또 다른 방법 normalize"
   ]
  },
  {
   "cell_type": "code",
   "execution_count": 20,
   "metadata": {},
   "outputs": [],
   "source": [
    "def dist_norm(v1, v2):\n",
    "    v1_normalized = v1 / sp.linalg.norm(v1.toarray())\n",
    "    v2_normalized = v2 / sp.linalg.norm(v2.toarray())\n",
    "\n",
    "    delta = v1_normalized - v2_normalized\n",
    "\n",
    "    return sp.linalg.norm(delta.toarray())"
   ]
  },
  {
   "cell_type": "code",
   "execution_count": 21,
   "metadata": {},
   "outputs": [
    {
     "name": "stdout",
     "output_type": "stream",
     "text": [
      "Best post is  3 , dist =  1.1021396119773588\n",
      "test post is -->  ['상처받기 싫어 괜찮아']\n",
      "best dist post is -->  아무 일도 아니야 괜찮아\n"
     ]
    }
   ],
   "source": [
    "# 1.22 결과.. 거리값이 바뀌어 있다.\n",
    "\n",
    "dist = [dist_norm(each, new_post_vec) for each in X]\n",
    "\n",
    "print('Best post is ', dist.index(min(dist)), \", dist = \", min(dist))\n",
    "print('test post is --> ', new_post)\n",
    "print('best dist post is --> ', contents[dist.index(min(dist))])"
   ]
  },
  {
   "cell_type": "markdown",
   "metadata": {},
   "source": [
    "# 2. 실전"
   ]
  },
  {
   "cell_type": "markdown",
   "metadata": {},
   "source": [
    "## 2.1 예전 함수를 가져오고"
   ]
  },
  {
   "cell_type": "code",
   "execution_count": 22,
   "metadata": {},
   "outputs": [],
   "source": [
    "import urllib.request\n",
    "import json\n",
    "import datetime"
   ]
  },
  {
   "cell_type": "code",
   "execution_count": 47,
   "metadata": {},
   "outputs": [],
   "source": [
    "def gen_search_url(api_node,search_text,start_num,disp_num):\n",
    "    base = 'https://openapi.naver.com/v1/search'\n",
    "    node = '/' + api_node + '.json'\n",
    "    param_query = '?query=' + urllib.parse.quote(search_text)\n",
    "    param_start = '&start=' + str(start_num)\n",
    "    param_disp = '&display=' + str(disp_num)\n",
    "    return base + node + param_query + param_disp + param_start\n",
    "\n",
    "def get_result_onpage(url):\n",
    "    request = urllib.request.Request(url)\n",
    "    request.add_header('X-Naver-Client-Id', client_id)\n",
    "    request.add_header('X-Naver-Client-Secret', client_secret)\n",
    "    response = urllib.request.urlopen(request)\n",
    "    print(f'{datetime.datetime.now()} Url Request Success')\n",
    "    return json.loads(response.read().decode('utf-8'))"
   ]
  },
  {
   "cell_type": "markdown",
   "metadata": {},
   "source": [
    "# 2.3 문장을 수집하자"
   ]
  },
  {
   "cell_type": "code",
   "execution_count": 25,
   "metadata": {},
   "outputs": [
    {
     "name": "stdout",
     "output_type": "stream",
     "text": [
      "2023-10-06 18:00:47.874642 Url Request Success\n"
     ]
    },
    {
     "data": {
      "text/plain": [
       "{'lastBuildDate': 'Fri, 06 Oct 2023 18:00:47 +0900',\n",
       " 'total': 27289,\n",
       " 'start': 1,\n",
       " 'display': 10,\n",
       " 'items': [{'title': '<b>자율주행</b> 자동차가 실생활',\n",
       "   'link': 'https://kin.naver.com/qna/detail.naver?d1id=8&dirId=81104&docId=452926448&qb=7J6Q7Jyo7KO87ZaJ&enc=utf8&section=kin.qna&rank=1&search_sort=0&spq=1',\n",
       "   'description': '<b>자율주행</b>자동차가 실생활에 쓰이고있나요? <b>자율주행</b>의 단계를 0단계부터 5단계로 구분한다고 할 때 지금 출시되는 차는 2단계 차량들이 이미 실생활에 보급되고 있습니다 테슬라나 현대자동차의 차량들이 2단계 <b>자율주행</b>차량들 입니다... '},\n",
       "  {'title': '자동차 <b>자율주행</b>장치를 모방하여 선박의 자율... ',\n",
       "   'link': 'https://kin.naver.com/qna/detail.naver?d1id=6&dirId=60205&docId=447300072&qb=7J6Q7Jyo7KO87ZaJ&enc=utf8&section=kin.qna&rank=2&search_sort=0&spq=1',\n",
       "   'description': '자동차 <b>자율주행</b>장치를 모방하여 선박의 <b>자율 주행</b>장치를 특허출원을 했다면 특허등록이 될까요?  안녕하세요. 대한변리사회-네이버 지식iN 상담변리사 문춘오 입니다. 저희 답변이 도움이 되기를 바랍니다. 자동차 <b>자율주행</b>장치를... '},\n",
       "  {'title': '<b>자율주행</b>자동차',\n",
       "   'link': 'https://kin.naver.com/qna/detail.naver?d1id=8&dirId=81104&docId=454455536&qb=7J6Q7Jyo7KO87ZaJ&enc=utf8&section=kin.qna&rank=3&search_sort=0&spq=1',\n",
       "   'description': '<b>자율주행</b>자동차 보급으로 사람들에게 생길 새로운 습관 자세히 많이 알려주세요!!  안녕하세요 도움되실 내용으로 답변드립니다. 1. 시간의 활용: <b>자율주행</b> 자동차가 운전을 대신하게 되면, 운전 중이던 시간을 다른 활동에 활용할 수... '},\n",
       "  {'title': '<b>자율주행</b>자동차 핵심내용',\n",
       "   'link': 'https://kin.naver.com/qna/detail.naver?d1id=8&dirId=8110302&docId=454167983&qb=7J6Q7Jyo7KO87ZaJ&enc=utf8&section=kin.qna&rank=4&search_sort=0&spq=1',\n",
       "   'description': '<b>자율주행</b>자동차 핵심내용 좀 알랴주세여  <b>자율주행</b> 자동차 상세 내용 아래 참고요 <b>자율주행</b>차 정의, 원리, 레벨, 핵심기술 4가지_총정리 - https://pt1000.tistory.com/m/92'},\n",
       "  {'title': '지금까지 실현된 <b>자율주행</b>자동차 알려주세요!',\n",
       "   'link': 'https://kin.naver.com/qna/detail.naver?d1id=8&dirId=81104&docId=453160610&qb=7J6Q7Jyo7KO87ZaJ&enc=utf8&section=kin.qna&rank=5&search_sort=0&spq=1',\n",
       "   'description': '수행평가로 <b>자율주행</b> 자동차에 대해 조사하는중인데 주제중 지금까지 실현된 <b>자율주행</b> 자동차 라는 주제가 있어서 2개 이상으로 알려주세요!! 지금 <b>자율주행</b> 자동차가 adas시스템 운전자 보조시스템 즉 <b>자율주행</b> 래밸2 까지입니다.... '},\n",
       "  {'title': '기계공학 <b>자율주행</b> 세특 질문',\n",
       "   'link': 'https://kin.naver.com/qna/detail.naver?d1id=11&dirId=1131&docId=447044939&qb=7J6Q7Jyo7KO87ZaJ&enc=utf8&section=kin.qna&rank=6&search_sort=0&spq=1',\n",
       "   'description': '<b>자율주행</b>자동차에 관심이 많은 고3입니다. 제가 생기부로 희망분야를 쭉 기계공학으로 채웠고 인공지능, 코딩과 관련된 <b>자율주행</b>자동차 세특으로 거의 채웠는데 코딩으로 채운 생기부가 기계공학에 지원하는데 좋게 볼까요?... '},\n",
       "  {'title': '정보통신공학과와 컴퓨터공학과 전자공학과중 <b>자율주행</b>... ',\n",
       "   'link': 'https://kin.naver.com/qna/detail.naver?d1id=11&dirId=1131&docId=435310625&qb=7J6Q7Jyo7KO87ZaJ&enc=utf8&section=kin.qna&rank=7&search_sort=0&spq=1',\n",
       "   'description': '저는 미래에 진로쪽을 커넥티드카나 <b>자율주행</b> 자동차쪽으로 가고싶었습니다.그러던중 정보통신을 생각하고있었습니다.그러던중 학원 선생님께서 굳이 그쪽으로 갈건데 다른과 가도될거같은데 왜 정보통신이야?이런거 물어봤는데 선뜻... '},\n",
       "  {'title': '<b>자율주행</b> 프로그래밍언어',\n",
       "   'link': 'https://kin.naver.com/qna/detail.naver?d1id=1&dirId=10405&docId=448005107&qb=7J6Q7Jyo7KO87ZaJ&enc=utf8&section=kin.qna&rank=8&search_sort=0&spq=1',\n",
       "   'description': '<b>자율주행</b> 프로그래밍언어에 파이썬, C, C++말고도 자바도 사용되나요?  현대차에서 <b>자율주행</b> 플랫폼 개발자 구인 광고입니다. 직무상세 Classic/Adaptive AUTOSAR 기반의 SW 플랫폼 아키텍처 및 <b>자율주행</b> 특화 SW 모듈 개발 <b>자율주행</b>... '},\n",
       "  {'title': '<b>자율 주행</b> 자동차 질문',\n",
       "   'link': 'https://kin.naver.com/qna/detail.naver?d1id=8&dirId=81104&docId=452030311&qb=7J6Q7Jyo7KO87ZaJ&enc=utf8&section=kin.qna&rank=9&search_sort=0&spq=1',\n",
       "   'description': '... <b>자율주행</b>의 현재의 센서 기술은 다양한 환경에서 중요한 데이터를 놓칠 수 있으며, 특히 극단적인 날씨나 특별한 도로 조건에서의 성능 저하와 같은 환경 인식의 한계가 있습니다 지금도 환경과,도로 조건에도 인식한계가 발생하나요?... '},\n",
       "  {'title': '<b>자율주행</b> 소프트웨어',\n",
       "   'link': 'https://kin.naver.com/qna/detail.naver?d1id=1&dirId=10405&docId=450929340&qb=7J6Q7Jyo7KO87ZaJ&enc=utf8&section=kin.qna&rank=10&search_sort=0&spq=1',\n",
       "   'description': '<b>자율주행</b> 소프트웨어 구현하려면 자바도 알아둬야 되나요?  자바는 <b>자율주행</b> 소프트웨어 개발에 사용되는 언어중 하나일 뿐입니다. 보통은 C++ 로 하는 경우이구요. 개발 툴에 따라 다른 것이지요. 자바... '}]}"
      ]
     },
     "execution_count": 25,
     "metadata": {},
     "output_type": "execute_result"
    }
   ],
   "source": [
    "client_id = 'JaT2Y5TwnkhA7HRktKli'\n",
    "client_secret = 'IpL_lZ84LN'\n",
    "\n",
    "url = gen_search_url('kin', '자율주행', 1, 10)\n",
    "one_result = get_result_onpage(url)\n",
    "one_result"
   ]
  },
  {
   "cell_type": "markdown",
   "metadata": {},
   "source": [
    "# 2.4 이렇게 접근~"
   ]
  },
  {
   "cell_type": "code",
   "execution_count": 26,
   "metadata": {},
   "outputs": [
    {
     "data": {
      "text/plain": [
       "'<b>자율주행</b>자동차가 실생활에 쓰이고있나요? <b>자율주행</b>의 단계를 0단계부터 5단계로 구분한다고 할 때 지금 출시되는 차는 2단계 차량들이 이미 실생활에 보급되고 있습니다 테슬라나 현대자동차의 차량들이 2단계 <b>자율주행</b>차량들 입니다... '"
      ]
     },
     "execution_count": 26,
     "metadata": {},
     "output_type": "execute_result"
    }
   ],
   "source": [
    "one_result['items'][0]['description']"
   ]
  },
  {
   "cell_type": "markdown",
   "metadata": {},
   "source": [
    "# 2.5 태그 제거기 호출"
   ]
  },
  {
   "cell_type": "code",
   "execution_count": 27,
   "metadata": {},
   "outputs": [],
   "source": [
    "def delete_tag(input_str):\n",
    "    input_str = input_str.replace('<b>','')\n",
    "    input_str = input_str.replace('</b>', \"\")\n",
    "    return input_str\n",
    "\n",
    "def get_description(pages):\n",
    "    contents = []\n",
    "    for sentences in pages['items']:\n",
    "        contents.append(delete_tag(sentences['description']))\n",
    "\n",
    "\n",
    "    return contents"
   ]
  },
  {
   "cell_type": "markdown",
   "metadata": {},
   "source": [
    "# 2.6 컨텐츠를 list로"
   ]
  },
  {
   "cell_type": "code",
   "execution_count": 28,
   "metadata": {},
   "outputs": [
    {
     "data": {
      "text/plain": [
       "['자율주행자동차가 실생활에 쓰이고있나요? 자율주행의 단계를 0단계부터 5단계로 구분한다고 할 때 지금 출시되는 차는 2단계 차량들이 이미 실생활에 보급되고 있습니다 테슬라나 현대자동차의 차량들이 2단계 자율주행차량들 입니다... ',\n",
       " '자동차 자율주행장치를 모방하여 선박의 자율 주행장치를 특허출원을 했다면 특허등록이 될까요?  안녕하세요. 대한변리사회-네이버 지식iN 상담변리사 문춘오 입니다. 저희 답변이 도움이 되기를 바랍니다. 자동차 자율주행장치를... ',\n",
       " '자율주행자동차 보급으로 사람들에게 생길 새로운 습관 자세히 많이 알려주세요!!  안녕하세요 도움되실 내용으로 답변드립니다. 1. 시간의 활용: 자율주행 자동차가 운전을 대신하게 되면, 운전 중이던 시간을 다른 활동에 활용할 수... ',\n",
       " '자율주행자동차 핵심내용 좀 알랴주세여  자율주행 자동차 상세 내용 아래 참고요 자율주행차 정의, 원리, 레벨, 핵심기술 4가지_총정리 - https://pt1000.tistory.com/m/92',\n",
       " '수행평가로 자율주행 자동차에 대해 조사하는중인데 주제중 지금까지 실현된 자율주행 자동차 라는 주제가 있어서 2개 이상으로 알려주세요!! 지금 자율주행 자동차가 adas시스템 운전자 보조시스템 즉 자율주행 래밸2 까지입니다.... ',\n",
       " '자율주행자동차에 관심이 많은 고3입니다. 제가 생기부로 희망분야를 쭉 기계공학으로 채웠고 인공지능, 코딩과 관련된 자율주행자동차 세특으로 거의 채웠는데 코딩으로 채운 생기부가 기계공학에 지원하는데 좋게 볼까요?... ',\n",
       " '저는 미래에 진로쪽을 커넥티드카나 자율주행 자동차쪽으로 가고싶었습니다.그러던중 정보통신을 생각하고있었습니다.그러던중 학원 선생님께서 굳이 그쪽으로 갈건데 다른과 가도될거같은데 왜 정보통신이야?이런거 물어봤는데 선뜻... ',\n",
       " '자율주행 프로그래밍언어에 파이썬, C, C++말고도 자바도 사용되나요?  현대차에서 자율주행 플랫폼 개발자 구인 광고입니다. 직무상세 Classic/Adaptive AUTOSAR 기반의 SW 플랫폼 아키텍처 및 자율주행 특화 SW 모듈 개발 자율주행... ',\n",
       " '... 자율주행의 현재의 센서 기술은 다양한 환경에서 중요한 데이터를 놓칠 수 있으며, 특히 극단적인 날씨나 특별한 도로 조건에서의 성능 저하와 같은 환경 인식의 한계가 있습니다 지금도 환경과,도로 조건에도 인식한계가 발생하나요?... ',\n",
       " '자율주행 소프트웨어 구현하려면 자바도 알아둬야 되나요?  자바는 자율주행 소프트웨어 개발에 사용되는 언어중 하나일 뿐입니다. 보통은 C++ 로 하는 경우이구요. 개발 툴에 따라 다른 것이지요. 자바... ']"
      ]
     },
     "execution_count": 28,
     "metadata": {},
     "output_type": "execute_result"
    }
   ],
   "source": [
    "contents = get_description(one_result)\n",
    "contents"
   ]
  },
  {
   "cell_type": "markdown",
   "metadata": {},
   "source": [
    "# 2.7 형태소 분석"
   ]
  },
  {
   "cell_type": "code",
   "execution_count": 29,
   "metadata": {},
   "outputs": [],
   "source": [
    "from sklearn.feature_extraction.text import CountVectorizer\n",
    "from konlpy.tag import Okt\n",
    "\n",
    "t = Okt()\n",
    "vectorizer = CountVectorizer(min_df = 1)"
   ]
  },
  {
   "cell_type": "code",
   "execution_count": 30,
   "metadata": {},
   "outputs": [
    {
     "data": {
      "text/plain": [
       "[['자율',\n",
       "  '주행',\n",
       "  '자동차',\n",
       "  '가',\n",
       "  '실생활',\n",
       "  '에',\n",
       "  '쓰이고있나요',\n",
       "  '?',\n",
       "  '자율',\n",
       "  '주행',\n",
       "  '의',\n",
       "  '단계',\n",
       "  '를',\n",
       "  '0',\n",
       "  '단계',\n",
       "  '부터',\n",
       "  '5',\n",
       "  '단계',\n",
       "  '로',\n",
       "  '구분',\n",
       "  '한',\n",
       "  '다',\n",
       "  '고',\n",
       "  '할',\n",
       "  '때',\n",
       "  '지금',\n",
       "  '출시',\n",
       "  '되는',\n",
       "  '차는',\n",
       "  '2',\n",
       "  '단계',\n",
       "  '차량',\n",
       "  '들',\n",
       "  '이',\n",
       "  '이미',\n",
       "  '실생활',\n",
       "  '에',\n",
       "  '보급',\n",
       "  '되고',\n",
       "  '있습니다',\n",
       "  '테슬라',\n",
       "  '나',\n",
       "  '현',\n",
       "  '대',\n",
       "  '자동차',\n",
       "  '의',\n",
       "  '차량',\n",
       "  '들',\n",
       "  '이',\n",
       "  '2',\n",
       "  '단계',\n",
       "  '자율',\n",
       "  '주행',\n",
       "  '차량',\n",
       "  '들',\n",
       "  '입니다',\n",
       "  '...'],\n",
       " ['자동차',\n",
       "  '자율',\n",
       "  '주행',\n",
       "  '장치',\n",
       "  '를',\n",
       "  '모방',\n",
       "  '하여',\n",
       "  '선박',\n",
       "  '의',\n",
       "  '자율',\n",
       "  '주행',\n",
       "  '장치',\n",
       "  '를',\n",
       "  '특허',\n",
       "  '출원',\n",
       "  '을',\n",
       "  '했다면',\n",
       "  '특허',\n",
       "  '등록',\n",
       "  '이',\n",
       "  '될까',\n",
       "  '요',\n",
       "  '?',\n",
       "  '안녕하세요',\n",
       "  '.',\n",
       "  '대',\n",
       "  '한',\n",
       "  '변리',\n",
       "  '사회',\n",
       "  '-',\n",
       "  '네이버',\n",
       "  '지식',\n",
       "  'iN',\n",
       "  '상담',\n",
       "  '변리사',\n",
       "  '문',\n",
       "  '춘오',\n",
       "  '입니다',\n",
       "  '.',\n",
       "  '저희',\n",
       "  '답변',\n",
       "  '이',\n",
       "  '도움',\n",
       "  '이',\n",
       "  '되',\n",
       "  '기를',\n",
       "  '바랍니다',\n",
       "  '.',\n",
       "  '자동차',\n",
       "  '자율',\n",
       "  '주행',\n",
       "  '장치',\n",
       "  '를',\n",
       "  '...'],\n",
       " ['자율',\n",
       "  '주행',\n",
       "  '자동차',\n",
       "  '보급',\n",
       "  '으로',\n",
       "  '사람',\n",
       "  '들',\n",
       "  '에게',\n",
       "  '생길',\n",
       "  '새로운',\n",
       "  '습관',\n",
       "  '자세히',\n",
       "  '많이',\n",
       "  '알려주세요',\n",
       "  '!!',\n",
       "  '안녕하세요',\n",
       "  '도움',\n",
       "  '되실',\n",
       "  '내용',\n",
       "  '으로',\n",
       "  '답변',\n",
       "  '드립니다',\n",
       "  '.',\n",
       "  '1',\n",
       "  '.',\n",
       "  '시간',\n",
       "  '의',\n",
       "  '활용',\n",
       "  ':',\n",
       "  '자율',\n",
       "  '주행',\n",
       "  '자동차',\n",
       "  '가',\n",
       "  '운전',\n",
       "  '을',\n",
       "  '대신',\n",
       "  '하게',\n",
       "  '되면',\n",
       "  ',',\n",
       "  '운전',\n",
       "  '중',\n",
       "  '이던',\n",
       "  '시간',\n",
       "  '을',\n",
       "  '다른',\n",
       "  '활동',\n",
       "  '에',\n",
       "  '활용',\n",
       "  '할',\n",
       "  '수',\n",
       "  '...'],\n",
       " ['자율',\n",
       "  '주행',\n",
       "  '자동차',\n",
       "  '핵심',\n",
       "  '내용',\n",
       "  '좀',\n",
       "  '알랴',\n",
       "  '주세여',\n",
       "  '자율',\n",
       "  '주행',\n",
       "  '자동차',\n",
       "  '상세',\n",
       "  '내용',\n",
       "  '아래',\n",
       "  '참고',\n",
       "  '요',\n",
       "  '자율',\n",
       "  '주',\n",
       "  '행차',\n",
       "  '정의',\n",
       "  ',',\n",
       "  '원리',\n",
       "  ',',\n",
       "  '레벨',\n",
       "  ',',\n",
       "  '핵심',\n",
       "  '기술',\n",
       "  '4',\n",
       "  '가지',\n",
       "  '_',\n",
       "  '총',\n",
       "  '정리',\n",
       "  '-',\n",
       "  'https://pt1000.tistory.com/m/92'],\n",
       " ['수행평가',\n",
       "  '로',\n",
       "  '자율',\n",
       "  '주행',\n",
       "  '자동차',\n",
       "  '에',\n",
       "  '대해',\n",
       "  '조사',\n",
       "  '하는',\n",
       "  '중',\n",
       "  '인데',\n",
       "  '주제',\n",
       "  '중',\n",
       "  '지금',\n",
       "  '까지',\n",
       "  '실현',\n",
       "  '된',\n",
       "  '자율',\n",
       "  '주행',\n",
       "  '자동차',\n",
       "  '라는',\n",
       "  '주제가',\n",
       "  '있어서',\n",
       "  '2',\n",
       "  '개',\n",
       "  '이상',\n",
       "  '으로',\n",
       "  '알려주세요',\n",
       "  '!!',\n",
       "  '지금',\n",
       "  '자율',\n",
       "  '주행',\n",
       "  '자동차',\n",
       "  '가',\n",
       "  'adas',\n",
       "  '시스템',\n",
       "  '운전자',\n",
       "  '보조',\n",
       "  '시스템',\n",
       "  '즉',\n",
       "  '자율',\n",
       "  '주행',\n",
       "  '래',\n",
       "  '밸',\n",
       "  '2',\n",
       "  '까지',\n",
       "  '입니다',\n",
       "  '....'],\n",
       " ['자율',\n",
       "  '주행',\n",
       "  '자동차',\n",
       "  '에',\n",
       "  '관심',\n",
       "  '이',\n",
       "  '많은',\n",
       "  '고',\n",
       "  '3',\n",
       "  '입니다',\n",
       "  '.',\n",
       "  '제',\n",
       "  '가',\n",
       "  '생기',\n",
       "  '부로',\n",
       "  '희망',\n",
       "  '분야',\n",
       "  '를',\n",
       "  '쭉',\n",
       "  '기계공학',\n",
       "  '으로',\n",
       "  '채웠고',\n",
       "  '인공',\n",
       "  '지능',\n",
       "  ',',\n",
       "  '코딩',\n",
       "  '과',\n",
       "  '관련',\n",
       "  '된',\n",
       "  '자율',\n",
       "  '주행',\n",
       "  '자동차',\n",
       "  '세특',\n",
       "  '으로',\n",
       "  '거의',\n",
       "  '채웠는데',\n",
       "  '코딩',\n",
       "  '으로',\n",
       "  '채운',\n",
       "  '생기',\n",
       "  '부가',\n",
       "  '기계공학',\n",
       "  '에',\n",
       "  '지원',\n",
       "  '하는데',\n",
       "  '좋게',\n",
       "  '볼까',\n",
       "  '요',\n",
       "  '?...'],\n",
       " ['저',\n",
       "  '는',\n",
       "  '미래',\n",
       "  '에',\n",
       "  '진로',\n",
       "  '쪽',\n",
       "  '을',\n",
       "  '커넥티드카',\n",
       "  '나',\n",
       "  '자율',\n",
       "  '주행',\n",
       "  '자동차',\n",
       "  '쪽',\n",
       "  '으로',\n",
       "  '가고싶었습니다',\n",
       "  '.',\n",
       "  '그러던',\n",
       "  '중',\n",
       "  '정보',\n",
       "  '통신',\n",
       "  '을',\n",
       "  '생각',\n",
       "  '하고있었습니다',\n",
       "  '.',\n",
       "  '그러던',\n",
       "  '중',\n",
       "  '학원',\n",
       "  '선생님',\n",
       "  '께서',\n",
       "  '굳이',\n",
       "  '그',\n",
       "  '쪽',\n",
       "  '으로',\n",
       "  '갈건데',\n",
       "  '다른',\n",
       "  '과',\n",
       "  '가도',\n",
       "  '될거',\n",
       "  '같은데',\n",
       "  '왜',\n",
       "  '정보',\n",
       "  '통신',\n",
       "  '이야',\n",
       "  '?',\n",
       "  '이런거',\n",
       "  '물어봤는데',\n",
       "  '선뜻',\n",
       "  '...'],\n",
       " ['자율',\n",
       "  '주행',\n",
       "  '프로그래밍언어',\n",
       "  '에',\n",
       "  '파이썬',\n",
       "  ',',\n",
       "  'C',\n",
       "  ',',\n",
       "  'C',\n",
       "  '++',\n",
       "  '말고도',\n",
       "  '자바',\n",
       "  '도',\n",
       "  '사용',\n",
       "  '되나요',\n",
       "  '?',\n",
       "  '현대차',\n",
       "  '에서',\n",
       "  '자율',\n",
       "  '주행',\n",
       "  '플랫폼',\n",
       "  '개발자',\n",
       "  '구인',\n",
       "  '광고',\n",
       "  '입니다',\n",
       "  '.',\n",
       "  '직무',\n",
       "  '상세',\n",
       "  'Classic',\n",
       "  '/',\n",
       "  'Adaptive',\n",
       "  'AUTOSAR',\n",
       "  '기반',\n",
       "  '의',\n",
       "  'SW',\n",
       "  '플랫폼',\n",
       "  '아키텍처',\n",
       "  '및',\n",
       "  '자율',\n",
       "  '주행',\n",
       "  '특화',\n",
       "  'SW',\n",
       "  '모듈',\n",
       "  '개발',\n",
       "  '자율',\n",
       "  '주행',\n",
       "  '...'],\n",
       " ['...',\n",
       "  '자율',\n",
       "  '주행',\n",
       "  '의',\n",
       "  '현재',\n",
       "  '의',\n",
       "  '센서',\n",
       "  '기술',\n",
       "  '은',\n",
       "  '다양한',\n",
       "  '환경',\n",
       "  '에서',\n",
       "  '중요한',\n",
       "  '데이터',\n",
       "  '를',\n",
       "  '놓칠',\n",
       "  '수',\n",
       "  '있으며',\n",
       "  ',',\n",
       "  '특히',\n",
       "  '극단',\n",
       "  '적',\n",
       "  '인',\n",
       "  '날씨',\n",
       "  '나',\n",
       "  '특별한',\n",
       "  '도로',\n",
       "  '조건',\n",
       "  '에서의',\n",
       "  '성능',\n",
       "  '저하',\n",
       "  '와',\n",
       "  '같은',\n",
       "  '환경',\n",
       "  '인식',\n",
       "  '의',\n",
       "  '한계',\n",
       "  '가',\n",
       "  '있습니다',\n",
       "  '지금',\n",
       "  '도',\n",
       "  '환경',\n",
       "  '과',\n",
       "  ',',\n",
       "  '도로',\n",
       "  '조건',\n",
       "  '에도',\n",
       "  '인식',\n",
       "  '한계',\n",
       "  '가',\n",
       "  '발생',\n",
       "  '하나요',\n",
       "  '?...'],\n",
       " ['자율',\n",
       "  '주행',\n",
       "  '소프트웨어',\n",
       "  '구현',\n",
       "  '하려면',\n",
       "  '자바',\n",
       "  '도',\n",
       "  '알',\n",
       "  '아',\n",
       "  '둬야',\n",
       "  '되나요',\n",
       "  '?',\n",
       "  '자바',\n",
       "  '는',\n",
       "  '자율',\n",
       "  '주행',\n",
       "  '소프트웨어',\n",
       "  '개발',\n",
       "  '에',\n",
       "  '사용',\n",
       "  '되는',\n",
       "  '언어',\n",
       "  '중',\n",
       "  '하나',\n",
       "  '일',\n",
       "  '뿐입니다',\n",
       "  '.',\n",
       "  '보통',\n",
       "  '은',\n",
       "  'C',\n",
       "  '++',\n",
       "  '로',\n",
       "  '하는',\n",
       "  '경우',\n",
       "  '이구',\n",
       "  '요',\n",
       "  '.',\n",
       "  '개발',\n",
       "  '툴',\n",
       "  '에',\n",
       "  '따라',\n",
       "  '다른',\n",
       "  '것',\n",
       "  '이지',\n",
       "  '요',\n",
       "  '.',\n",
       "  '자바',\n",
       "  '...']]"
      ]
     },
     "execution_count": 30,
     "metadata": {},
     "output_type": "execute_result"
    }
   ],
   "source": [
    "contents_tokens = [t.morphs(row) for row in contents]\n",
    "contents_tokens"
   ]
  },
  {
   "cell_type": "markdown",
   "metadata": {},
   "source": [
    "# 2.8 vectorize 후 다시 합치고"
   ]
  },
  {
   "cell_type": "code",
   "execution_count": 31,
   "metadata": {},
   "outputs": [
    {
     "data": {
      "text/plain": [
       "[' 자율 주행 자동차 가 실생활 에 쓰이고있나요 ? 자율 주행 의 단계 를 0 단계 부터 5 단계 로 구분 한 다 고 할 때 지금 출시 되는 차는 2 단계 차량 들 이 이미 실생활 에 보급 되고 있습니다 테슬라 나 현 대 자동차 의 차량 들 이 2 단계 자율 주행 차량 들 입니다 ...',\n",
       " ' 자동차 자율 주행 장치 를 모방 하여 선박 의 자율 주행 장치 를 특허 출원 을 했다면 특허 등록 이 될까 요 ? 안녕하세요 . 대 한 변리 사회 - 네이버 지식 iN 상담 변리사 문 춘오 입니다 . 저희 답변 이 도움 이 되 기를 바랍니다 . 자동차 자율 주행 장치 를 ...',\n",
       " ' 자율 주행 자동차 보급 으로 사람 들 에게 생길 새로운 습관 자세히 많이 알려주세요 !! 안녕하세요 도움 되실 내용 으로 답변 드립니다 . 1 . 시간 의 활용 : 자율 주행 자동차 가 운전 을 대신 하게 되면 , 운전 중 이던 시간 을 다른 활동 에 활용 할 수 ...',\n",
       " ' 자율 주행 자동차 핵심 내용 좀 알랴 주세여 자율 주행 자동차 상세 내용 아래 참고 요 자율 주 행차 정의 , 원리 , 레벨 , 핵심 기술 4 가지 _ 총 정리 - https://pt1000.tistory.com/m/92',\n",
       " ' 수행평가 로 자율 주행 자동차 에 대해 조사 하는 중 인데 주제 중 지금 까지 실현 된 자율 주행 자동차 라는 주제가 있어서 2 개 이상 으로 알려주세요 !! 지금 자율 주행 자동차 가 adas 시스템 운전자 보조 시스템 즉 자율 주행 래 밸 2 까지 입니다 ....',\n",
       " ' 자율 주행 자동차 에 관심 이 많은 고 3 입니다 . 제 가 생기 부로 희망 분야 를 쭉 기계공학 으로 채웠고 인공 지능 , 코딩 과 관련 된 자율 주행 자동차 세특 으로 거의 채웠는데 코딩 으로 채운 생기 부가 기계공학 에 지원 하는데 좋게 볼까 요 ?...',\n",
       " ' 저 는 미래 에 진로 쪽 을 커넥티드카 나 자율 주행 자동차 쪽 으로 가고싶었습니다 . 그러던 중 정보 통신 을 생각 하고있었습니다 . 그러던 중 학원 선생님 께서 굳이 그 쪽 으로 갈건데 다른 과 가도 될거 같은데 왜 정보 통신 이야 ? 이런거 물어봤는데 선뜻 ...',\n",
       " ' 자율 주행 프로그래밍언어 에 파이썬 , C , C ++ 말고도 자바 도 사용 되나요 ? 현대차 에서 자율 주행 플랫폼 개발자 구인 광고 입니다 . 직무 상세 Classic / Adaptive AUTOSAR 기반 의 SW 플랫폼 아키텍처 및 자율 주행 특화 SW 모듈 개발 자율 주행 ...',\n",
       " ' ... 자율 주행 의 현재 의 센서 기술 은 다양한 환경 에서 중요한 데이터 를 놓칠 수 있으며 , 특히 극단 적 인 날씨 나 특별한 도로 조건 에서의 성능 저하 와 같은 환경 인식 의 한계 가 있습니다 지금 도 환경 과 , 도로 조건 에도 인식 한계 가 발생 하나요 ?...',\n",
       " ' 자율 주행 소프트웨어 구현 하려면 자바 도 알 아 둬야 되나요 ? 자바 는 자율 주행 소프트웨어 개발 에 사용 되는 언어 중 하나 일 뿐입니다 . 보통 은 C ++ 로 하는 경우 이구 요 . 개발 툴 에 따라 다른 것 이지 요 . 자바 ...']"
      ]
     },
     "execution_count": 31,
     "metadata": {},
     "output_type": "execute_result"
    }
   ],
   "source": [
    "contents_for_vectorize = []\n",
    "\n",
    "for content in contents_tokens:\n",
    "    sentence = ''\n",
    "    for word in content:\n",
    "        sentence = sentence + ' ' + word\n",
    "\n",
    "    contents_for_vectorize.append(sentence)\n",
    "\n",
    "contents_for_vectorize\n",
    "\n",
    "\n"
   ]
  },
  {
   "cell_type": "markdown",
   "metadata": {},
   "source": [
    "# 2.9 결과"
   ]
  },
  {
   "cell_type": "code",
   "execution_count": 32,
   "metadata": {},
   "outputs": [
    {
     "data": {
      "text/plain": [
       "<10x196 sparse matrix of type '<class 'numpy.int64'>'\n",
       "\twith 247 stored elements in Compressed Sparse Row format>"
      ]
     },
     "execution_count": 32,
     "metadata": {},
     "output_type": "execute_result"
    }
   ],
   "source": [
    "X = vectorizer.fit_transform(contents_for_vectorize)\n",
    "X"
   ]
  },
  {
   "cell_type": "code",
   "execution_count": 33,
   "metadata": {},
   "outputs": [
    {
     "data": {
      "text/plain": [
       "(10, 196)"
      ]
     },
     "execution_count": 33,
     "metadata": {},
     "output_type": "execute_result"
    }
   ],
   "source": [
    "num_samples, num_features = X.shape\n",
    "num_samples, num_features"
   ]
  },
  {
   "cell_type": "markdown",
   "metadata": {},
   "source": [
    "# 2.10 벡터라이즈 결과"
   ]
  },
  {
   "cell_type": "code",
   "execution_count": 34,
   "metadata": {},
   "outputs": [
    {
     "data": {
      "text/plain": [
       "array(['92', 'adaptive', 'adas', 'autosar', 'classic', 'com', 'https',\n",
       "       'in', 'pt1000', 'sw', 'tistory', '가고싶었습니다', '가도', '가지', '갈건데',\n",
       "       '같은', '같은데', '개발', '개발자', '거의', '경우', '관련', '관심', '광고', '구분', '구인',\n",
       "       '구현', '굳이', '그러던', '극단', '기계공학', '기를', '기반', '기술', '까지', '께서',\n",
       "       '날씨', '내용', '네이버', '놓칠', '다른', '다양한', '단계', '답변', '대신', '대해',\n",
       "       '데이터', '도로', '도움', '되고', '되나요', '되는', '되면', '되실', '될거', '될까', '둬야',\n",
       "       '드립니다', '등록', '따라', '라는', '레벨', '많은', '많이', '말고도', '모듈', '모방',\n",
       "       '물어봤는데', '미래', '바랍니다', '발생', '변리', '변리사', '보급', '보조', '보통', '볼까',\n",
       "       '부가', '부로', '부터', '분야', '뿐입니다', '사람', '사용', '사회', '상담', '상세',\n",
       "       '새로운', '생각', '생기', '생길', '선뜻', '선박', '선생님', '성능', '세특', '센서',\n",
       "       '소프트웨어', '수행평가', '습관', '시간', '시스템', '실생활', '실현', '쓰이고있나요', '아래',\n",
       "       '아키텍처', '안녕하세요', '알랴', '알려주세요', '언어', '에게', '에도', '에서', '에서의',\n",
       "       '운전', '운전자', '원리', '으로', '이구', '이던', '이런거', '이미', '이상', '이야', '이지',\n",
       "       '인공', '인데', '인식', '입니다', '있습니다', '있어서', '있으며', '자동차', '자바', '자세히',\n",
       "       '자율', '장치', '저하', '저희', '정리', '정보', '정의', '조건', '조사', '좋게', '주세여',\n",
       "       '주제', '주제가', '주행', '중요한', '지금', '지능', '지식', '지원', '직무', '진로', '차는',\n",
       "       '차량', '참고', '채운', '채웠고', '채웠는데', '춘오', '출시', '출원', '커넥티드카', '코딩',\n",
       "       '테슬라', '통신', '특별한', '특허', '특화', '특히', '파이썬', '프로그래밍언어', '플랫폼',\n",
       "       '하게', '하고있었습니다', '하나', '하나요', '하는', '하는데', '하려면', '하여', '학원', '한계',\n",
       "       '핵심', '했다면', '행차', '현대차', '현재', '환경', '활동', '활용', '희망'],\n",
       "      dtype=object)"
      ]
     },
     "execution_count": 34,
     "metadata": {},
     "output_type": "execute_result"
    }
   ],
   "source": [
    "vectorizer.get_feature_names_out()"
   ]
  },
  {
   "cell_type": "markdown",
   "metadata": {},
   "source": [
    "# 2.11 유사도 측정할 테스트 문장"
   ]
  },
  {
   "cell_type": "code",
   "execution_count": 35,
   "metadata": {},
   "outputs": [
    {
     "data": {
      "text/plain": [
       "[' 현대차 자율 주행 직무 에 기계공학 전공 이 많나요 ?']"
      ]
     },
     "execution_count": 35,
     "metadata": {},
     "output_type": "execute_result"
    }
   ],
   "source": [
    "new_post = ['현대차 자율주행 직무에 기계공학 전공이 많나요?']\n",
    "new_post_tokens = [t.morphs(row) for row in new_post]\n",
    "\n",
    "new_post_for_vectorize = []\n",
    "\n",
    "for content in new_post_tokens:\n",
    "    sentence = ''\n",
    "    for word in content:\n",
    "        sentence = sentence + ' ' + word\n",
    "    \n",
    "    new_post_for_vectorize.append(sentence)\n",
    "\n",
    "\n",
    "new_post_for_vectorize"
   ]
  },
  {
   "cell_type": "markdown",
   "metadata": {},
   "source": [
    "# 2.12 벡터라이즈"
   ]
  },
  {
   "cell_type": "code",
   "execution_count": 36,
   "metadata": {},
   "outputs": [
    {
     "data": {
      "text/plain": [
       "array([[0, 0, 0, 0, 0, 0, 0, 0, 0, 0, 0, 0, 0, 0, 0, 0, 0, 0, 0, 0, 0, 0,\n",
       "        0, 0, 0, 0, 0, 0, 0, 0, 1, 0, 0, 0, 0, 0, 0, 0, 0, 0, 0, 0, 0, 0,\n",
       "        0, 0, 0, 0, 0, 0, 0, 0, 0, 0, 0, 0, 0, 0, 0, 0, 0, 0, 0, 0, 0, 0,\n",
       "        0, 0, 0, 0, 0, 0, 0, 0, 0, 0, 0, 0, 0, 0, 0, 0, 0, 0, 0, 0, 0, 0,\n",
       "        0, 0, 0, 0, 0, 0, 0, 0, 0, 0, 0, 0, 0, 0, 0, 0, 0, 0, 0, 0, 0, 0,\n",
       "        0, 0, 0, 0, 0, 0, 0, 0, 0, 0, 0, 0, 0, 0, 0, 0, 0, 0, 0, 0, 0, 0,\n",
       "        0, 0, 0, 0, 1, 0, 0, 0, 0, 0, 0, 0, 0, 0, 0, 0, 0, 1, 0, 0, 0, 0,\n",
       "        0, 1, 0, 0, 0, 0, 0, 0, 0, 0, 0, 0, 0, 0, 0, 0, 0, 0, 0, 0, 0, 0,\n",
       "        0, 0, 0, 0, 0, 0, 0, 0, 0, 0, 0, 0, 0, 0, 1, 0, 0, 0, 0, 0]])"
      ]
     },
     "execution_count": 36,
     "metadata": {},
     "output_type": "execute_result"
    }
   ],
   "source": [
    "new_post_vec = vectorizer.transform(new_post_for_vectorize)\n",
    "new_post_vec.toarray()"
   ]
  },
  {
   "cell_type": "markdown",
   "metadata": {},
   "source": [
    "# 2.13 유클리드 거리"
   ]
  },
  {
   "cell_type": "code",
   "execution_count": 37,
   "metadata": {},
   "outputs": [],
   "source": [
    "import scipy as sp\n",
    "\n",
    "def dist_raw(v1, v2):\n",
    "    delta = v1 - v2\n",
    "    return sp.linalg.norm(delta.toarray())"
   ]
  },
  {
   "cell_type": "code",
   "execution_count": 38,
   "metadata": {},
   "outputs": [
    {
     "data": {
      "text/plain": [
       "[8.12403840463596,\n",
       " 7.0710678118654755,\n",
       " 6.782329983125268,\n",
       " 6.082762530298219,\n",
       " 7.681145747868608,\n",
       " 6.708203932499369,\n",
       " 6.244997998398398,\n",
       " 6.855654600401044,\n",
       " 7.0710678118654755,\n",
       " 6.164414002968976]"
      ]
     },
     "execution_count": 38,
     "metadata": {},
     "output_type": "execute_result"
    }
   ],
   "source": [
    "dist = [dist_raw(each, new_post_vec) for each in X]\n",
    "dist"
   ]
  },
  {
   "cell_type": "markdown",
   "metadata": {},
   "source": [
    "# 2.14 결과~ 괜찮지 않나요?"
   ]
  },
  {
   "cell_type": "code",
   "execution_count": 39,
   "metadata": {},
   "outputs": [
    {
     "name": "stdout",
     "output_type": "stream",
     "text": [
      "Best post is 3 , dist =  6.082762530298219\n",
      "test post is -->  ['현대차 자율주행 직무에 기계공학 전공이 많나요?']\n",
      "best dist post is -->  자율주행자동차 핵심내용 좀 알랴주세여  자율주행 자동차 상세 내용 아래 참고요 자율주행차 정의, 원리, 레벨, 핵심기술 4가지_총정리 - https://pt1000.tistory.com/m/92\n"
     ]
    }
   ],
   "source": [
    "print(\"Best post is\", dist.index(min(dist)), \", dist = \", min(dist))\n",
    "print(\"test post is --> \", new_post)\n",
    "print(\"best dist post is --> \", contents[dist.index(min(dist))])"
   ]
  },
  {
   "cell_type": "markdown",
   "metadata": {},
   "source": [
    "# 2.15 거리를 구하는 또다른 방법 normalize"
   ]
  },
  {
   "cell_type": "code",
   "execution_count": 40,
   "metadata": {},
   "outputs": [],
   "source": [
    "def dist_norm(v1, v2):\n",
    "    v1_normalized = v1 / sp.linalg.norm(v1.toarray())\n",
    "    v2_normalized = v2 / sp.linalg.norm(v2.toarray())\n",
    "\n",
    "    delta = v1_normalized - v2_normalized\n",
    "\n",
    "    return sp.linalg.norm(delta.toarray())"
   ]
  },
  {
   "cell_type": "markdown",
   "metadata": {},
   "source": [
    "# 2.16 결과"
   ]
  },
  {
   "cell_type": "code",
   "execution_count": 41,
   "metadata": {},
   "outputs": [
    {
     "name": "stdout",
     "output_type": "stream",
     "text": [
      "Best post is 7 , dist =  0.9295570619955884\n",
      "test post is -->  ['현대차 자율주행 직무에 기계공학 전공이 많나요?']\n",
      "best dist post is -->  자율주행 프로그래밍언어에 파이썬, C, C++말고도 자바도 사용되나요?  현대차에서 자율주행 플랫폼 개발자 구인 광고입니다. 직무상세 Classic/Adaptive AUTOSAR 기반의 SW 플랫폼 아키텍처 및 자율주행 특화 SW 모듈 개발 자율주행... \n"
     ]
    }
   ],
   "source": [
    "dist = [dist_norm(each, new_post_vec) for each in X]\n",
    "\n",
    "print(\"Best post is\", dist.index(min(dist)), \", dist = \", min(dist))\n",
    "print(\"test post is --> \", new_post)\n",
    "print(\"best dist post is --> \", contents[dist.index(min(dist))])"
   ]
  },
  {
   "cell_type": "code",
   "execution_count": 42,
   "metadata": {},
   "outputs": [],
   "source": [
    "# 2.17 Tfidf\n",
    "def tfidf(t, d, D):\n",
    "    tf = float(d.count(t)) / sum(d.count(w) for w in set(d))\n",
    "    idf = sp.log(float(len(D))) / (len([doc for doc in D if t in doc]))\n",
    "\n",
    "    return tf * idf"
   ]
  },
  {
   "cell_type": "code",
   "execution_count": 43,
   "metadata": {},
   "outputs": [],
   "source": [
    "from sklearn.feature_extraction.text import TfidfVectorizer\n",
    "vectorizer = TfidfVectorizer(min_df=1, decode_error='ignore')"
   ]
  },
  {
   "cell_type": "code",
   "execution_count": 44,
   "metadata": {},
   "outputs": [
    {
     "data": {
      "text/plain": [
       "(10, 196)"
      ]
     },
     "execution_count": 44,
     "metadata": {},
     "output_type": "execute_result"
    }
   ],
   "source": [
    "X = vectorizer.fit_transform(contents_for_vectorize)\n",
    "num_samples, num_features = X.shape\n",
    "num_samples, num_features"
   ]
  },
  {
   "cell_type": "markdown",
   "metadata": {},
   "source": [
    "# 2.18 이제 눈으로 확인하는건 약간 무리"
   ]
  },
  {
   "cell_type": "code",
   "execution_count": 45,
   "metadata": {},
   "outputs": [
    {
     "data": {
      "text/plain": [
       "array([[0.        , 0.        , 0.        , 0.        , 0.        ,\n",
       "        0.        , 0.        , 0.        , 0.        , 0.        ,\n",
       "        0.        , 0.        , 0.        , 0.        , 0.        ,\n",
       "        0.        , 0.        , 0.        , 0.        , 0.        ,\n",
       "        0.        , 0.        , 0.        , 0.        , 0.        ,\n",
       "        0.        , 0.        , 0.        , 0.        , 0.        ,\n",
       "        0.55271517, 0.        , 0.        , 0.        , 0.        ,\n",
       "        0.        , 0.        , 0.        , 0.        , 0.        ,\n",
       "        0.        , 0.        , 0.        , 0.        , 0.        ,\n",
       "        0.        , 0.        , 0.        , 0.        , 0.        ,\n",
       "        0.        , 0.        , 0.        , 0.        , 0.        ,\n",
       "        0.        , 0.        , 0.        , 0.        , 0.        ,\n",
       "        0.        , 0.        , 0.        , 0.        , 0.        ,\n",
       "        0.        , 0.        , 0.        , 0.        , 0.        ,\n",
       "        0.        , 0.        , 0.        , 0.        , 0.        ,\n",
       "        0.        , 0.        , 0.        , 0.        , 0.        ,\n",
       "        0.        , 0.        , 0.        , 0.        , 0.        ,\n",
       "        0.        , 0.        , 0.        , 0.        , 0.        ,\n",
       "        0.        , 0.        , 0.        , 0.        , 0.        ,\n",
       "        0.        , 0.        , 0.        , 0.        , 0.        ,\n",
       "        0.        , 0.        , 0.        , 0.        , 0.        ,\n",
       "        0.        , 0.        , 0.        , 0.        , 0.        ,\n",
       "        0.        , 0.        , 0.        , 0.        , 0.        ,\n",
       "        0.        , 0.        , 0.        , 0.        , 0.        ,\n",
       "        0.        , 0.        , 0.        , 0.        , 0.        ,\n",
       "        0.        , 0.        , 0.        , 0.        , 0.        ,\n",
       "        0.        , 0.        , 0.        , 0.        , 0.        ,\n",
       "        0.        , 0.20434996, 0.        , 0.        , 0.        ,\n",
       "        0.        , 0.        , 0.        , 0.        , 0.        ,\n",
       "        0.        , 0.        , 0.        , 0.        , 0.20434996,\n",
       "        0.        , 0.        , 0.        , 0.        , 0.        ,\n",
       "        0.55271517, 0.        , 0.        , 0.        , 0.        ,\n",
       "        0.        , 0.        , 0.        , 0.        , 0.        ,\n",
       "        0.        , 0.        , 0.        , 0.        , 0.        ,\n",
       "        0.        , 0.        , 0.        , 0.        , 0.        ,\n",
       "        0.        , 0.        , 0.        , 0.        , 0.        ,\n",
       "        0.        , 0.        , 0.        , 0.        , 0.        ,\n",
       "        0.        , 0.        , 0.        , 0.        , 0.        ,\n",
       "        0.55271517, 0.        , 0.        , 0.        , 0.        ,\n",
       "        0.        ]])"
      ]
     },
     "execution_count": 45,
     "metadata": {},
     "output_type": "execute_result"
    }
   ],
   "source": [
    "new_post_vec = vectorizer.transform(new_post_for_vectorize)\n",
    "new_post_vec.toarray()"
   ]
  },
  {
   "cell_type": "code",
   "execution_count": 46,
   "metadata": {},
   "outputs": [
    {
     "name": "stdout",
     "output_type": "stream",
     "text": [
      "Best post is 7 , dist =  1.1815535659900955\n",
      "test post is -->  ['현대차 자율주행 직무에 기계공학 전공이 많나요?']\n",
      "best dist post is -->  자율주행 프로그래밍언어에 파이썬, C, C++말고도 자바도 사용되나요?  현대차에서 자율주행 플랫폼 개발자 구인 광고입니다. 직무상세 Classic/Adaptive AUTOSAR 기반의 SW 플랫폼 아키텍처 및 자율주행 특화 SW 모듈 개발 자율주행... \n"
     ]
    }
   ],
   "source": [
    "# 2.19 결과\n",
    "dist = [dist_norm(each, new_post_vec) for each in X]\n",
    "\n",
    "print(\"Best post is\", dist.index(min(dist)), \", dist = \", min(dist))\n",
    "print(\"test post is --> \", new_post)\n",
    "print(\"best dist post is --> \", contents[dist.index(min(dist))])"
   ]
  }
 ],
 "metadata": {
  "kernelspec": {
   "display_name": "nltk",
   "language": "python",
   "name": "python3"
  },
  "language_info": {
   "codemirror_mode": {
    "name": "ipython",
    "version": 3
   },
   "file_extension": ".py",
   "mimetype": "text/x-python",
   "name": "python",
   "nbconvert_exporter": "python",
   "pygments_lexer": "ipython3",
   "version": "3.10.12"
  }
 },
 "nbformat": 4,
 "nbformat_minor": 2
}
